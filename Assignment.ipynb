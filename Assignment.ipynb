{
 "cells": [
  {
   "cell_type": "code",
   "execution_count": 54,
   "metadata": {},
   "outputs": [
    {
     "name": "stdout",
     "output_type": "stream",
     "text": [
      "Mean of Asset A: 0.0\n", 
      "Mean of Asset B: 0.01\n", #pro(state1)*r(state1)+pro(state2)*r(state2)+pro(state3)*r(state3)
      "STD of Asset A: 0.026457513110645904\n",
      "STD of Asset B: 0.052915026221291815\n",
      "Correlation of Assets A and B: -1.0\n"
     ]
    }
   ],
   "source": [
    "import pandas as pd\n",
    "import math\n",
    "import matplotlib\n",
    "import numpy as np\n",
    "import matplotlib.pyplot as plt\n",
    "\n",
    "\n",
    "#1a\n",
    "returns_A = pd.Series([-0.02,-0.01,0.03])\n",
    "returns_B = pd.Series([0.05,0.03,-0.05])\n",
    "\n",
    "mean_A = returns_A.mean()\n",
    "mean_B = returns_B.mean()\n",
    "\n",
    "std_A = returns_A.std()\n",
    "std_B = returns_B.std()\n",
    "\n",
    "correlation_AB = returns_A.corr(returns_B)\n",
    "\n",
    "print('Mean of Asset A:', mean_A)\n",
    "print('Mean of Asset B:', mean_B)\n",
    "print('STD of Asset A:', std_A)\n",
    "print('STD of Asset B:', std_B)\n",
    "print('Correlation of Assets A and B:', correlation_AB)"
   ]
  },
  {
   "cell_type": "code",
   "execution_count": 60,
   "metadata": {},
   "outputs": [
    {
     "name": "stdout",
     "output_type": "stream",
     "text": [
      "weight for Asset A: 0.6666666666666666\n",
      "weight for Asset B: 0.33333333333333337\n",
      "Weights for Assets A and B: (0.6666666666666666, 0.33333333333333337)\n",
      "Expected return for optimal portfolio with minimum vatriance: 0.003333333333333334\n",
      "Portfolio Variance: -0.0\n",
      "Volatility of Portfolio: -0.0\n"
     ]
    }
   ],
   "source": [
    "#1b\n",
    "covariance_AB = returns_A.cov(returns_B)\n",
    "w_A = (std_B**2 - covariance_AB) / (std_A**2 + std_B**2 - 2 * covariance_AB)\n",
    "w_B = 1 - w_A\n",
    "optimal_portfolio_weights = (w_A, w_B)\n",
    "portfolio_variance = (w_A**2 * std_A**2) + (w_B**2 * std_B**2) + (2 * w_A * w_B * covariance_AB)\n",
    "portfolio_variance = round(portfolio_variance, 10)\n",
    "portfolio_std_dev = np.sqrt(portfolio_variance)\n",
    "\n",
    "print('weight for Asset A:', w_A)\n",
    "print('weight for Asset B:',w_B)\n",
    "print('Weights for Assets A and B:', optimal_portfolio_weights)\n",
    "print('Expected return for optimal portfolio with minimum vatriance:', w_A*mean_A+w_B*mean_B)\n",
    "print('Portfolio Variance:', portfolio_variance)\n",
    "print('Volatility of Portfolio:', portfolio_std_dev)\n"
   ]
  },
  {
   "cell_type": "markdown",
   "metadata": {},
   "source": []
  },
  {
   "cell_type": "markdown",
   "metadata": {},
   "source": [
    "# 1c\n",
    "# All portfolios consist of a long position in a portfolio made up of Stock A and Stock B. \n",
    "# Zero-cost criteria: To maintain zero cost, the long positions in the risky assets must be financed by a short position in the risk-free asset, which is always shorted. \n",
    "# Positive return in all states, strictly positive return in at least one state: It is most prudent to use a leveraged position in the minimum variance portfolio, as this minimizes the associated risk. Since the minimum variance portfolio yields 33bps return for 0 volatility, any portfolio constellation consisting of the minimum variance portfolio, achieves a positive return in all states and a strictly positive return in at least one state.\n",
    "# The portfolio constellation is financed with borrowing money for 0% from risk free rate, offering an arbitrage opportunity, with nominal returns approaching infinity as leverage in rf increases."
   ]
  }
 ],
 "metadata": {
  "kernelspec": {
   "display_name": "Python 3",
   "language": "python",
   "name": "python3"
  },
  "language_info": {
   "codemirror_mode": {
    "name": "ipython",
    "version": 3
   },
   "file_extension": ".py",
   "mimetype": "text/x-python",
   "name": "python",
   "nbconvert_exporter": "python",
   "pygments_lexer": "ipython3",
   "version": "3.12.2"
  }
 },
 "nbformat": 4,
 "nbformat_minor": 2
}
