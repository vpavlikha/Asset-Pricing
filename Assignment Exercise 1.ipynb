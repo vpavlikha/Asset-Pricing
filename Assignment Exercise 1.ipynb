{
 "cells": [
  {
   "cell_type": "markdown",
   "metadata": {},
   "source": [
    "### 1a"
   ]
  },
  {
   "cell_type": "code",
   "execution_count": 6,
   "metadata": {},
   "outputs": [
    {
     "name": "stdout",
     "output_type": "stream",
     "text": [
      "Mean of Asset A: 0.0\n",
      "Mean of Asset B: 0.01\n",
      "STD of Asset A: 0.026457513110645904\n",
      "STD of Asset B: 0.052915026221291815\n",
      "Correlation of Assets A and B: -1.0\n"
     ]
    }
   ],
   "source": [
    "import pandas as pd\n",
    "import math\n",
    "import matplotlib\n",
    "import numpy as np\n",
    "import matplotlib.pyplot as plt\n",
    "\n",
    "returns_A = pd.Series([-0.02,-0.01,0.03])\n",
    "returns_B = pd.Series([0.05,0.03,-0.05])\n",
    "\n",
    "mean_A = returns_A.mean()\n",
    "mean_B = returns_B.mean()\n",
    "\n",
    "std_A = returns_A.std()\n",
    "std_B = returns_B.std()\n",
    "\n",
    "correlation_AB = returns_A.corr(returns_B)\n",
    "\n",
    "print('Mean of Asset A:', mean_A)\n",
    "print('Mean of Asset B:', mean_B)\n",
    "print('STD of Asset A:', std_A)\n",
    "print('STD of Asset B:', std_B)\n",
    "print('Correlation of Assets A and B:', correlation_AB)"
   ]
  },
  {
   "cell_type": "markdown",
   "metadata": {},
   "source": [
    "## Standard Deviation of Assets with X=3 datapoint/scenarios\n",
    "\n",
    "The standard deviation of an asset with X=3 datapoints is calculated with\n",
    "   $$\n",
    "   \\sigma = \\sqrt{\\frac{(X_1 - \\mu)^2 + (X_2 - \\mu)^2 + (X_3 - \\mu)^2}{3}}\n",
    "   $$\n",
    "\n",
    "where $$\\mu$$ is calculated with\n",
    "$$\n",
    "   \\mu = \\frac{X_1 + X_2 + X_3}{3}\n",
    "   $$"
   ]
  },
  {
   "cell_type": "markdown",
   "metadata": {},
   "source": [
    "### 1b"
   ]
  },
  {
   "cell_type": "code",
   "execution_count": 5,
   "metadata": {},
   "outputs": [
    {
     "name": "stdout",
     "output_type": "stream",
     "text": [
      "weight for Asset A: 0.6666666666666666\n",
      "weight for Asset B: 0.33333333333333337\n",
      "Weights for Assets A and B: (0.6666666666666666, 0.33333333333333337)\n",
      "Expected return for portfolio with minimum vatriance: 0.003333333333333334\n",
      "Portfolio Variance: -0.0\n",
      "Volatility of Portfolio: -0.0\n"
     ]
    }
   ],
   "source": [
    "covariance_AB = returns_A.cov(returns_B)\n",
    "w_A = (std_B**2 - covariance_AB) / (std_A**2 + std_B**2 - 2 * covariance_AB)\n",
    "w_B = 1 - w_A\n",
    "minimum_portfolio_weights = (w_A, w_B)\n",
    "portfolio_variance = (w_A**2 * std_A**2) + (w_B**2 * std_B**2) + (2 * w_A * w_B * covariance_AB)\n",
    "portfolio_variance = round(portfolio_variance, 10)\n",
    "portfolio_std_dev = np.sqrt(portfolio_variance)\n",
    "\n",
    "print('weight for Asset A:', w_A)\n",
    "print('weight for Asset B:',w_B)\n",
    "print('Weights for Assets A and B:', minimum_portfolio_weights)\n",
    "print('Expected return for portfolio with minimum vatriance:', w_A*mean_A+w_B*mean_B)\n",
    "print('Portfolio Variance:', portfolio_variance)\n",
    "print('Volatility of Portfolio:', portfolio_std_dev)\n"
   ]
  },
  {
   "cell_type": "markdown",
   "metadata": {},
   "source": [
    "## Optimal Weight of Asset A in a Two-Asset Portfolio\n",
    "\n",
    "The formula for the optimal weight of Asset A in a portfolio with two assets to minimize variance is\n",
    "\n",
    "$$\n",
    "w_A = \\frac{\\sigma_B^2 - \\text{Cov}(A,B)}{\\sigma_A^2 + \\sigma_B^2 - 2 \\times \\text{Cov}(A,B)}\n",
    "$$\n",
    "\n",
    "where weight in asset B is\n",
    "\n",
    "$$\n",
    "w_B = 1 - w_A\n",
    "$$\n",
    "\n",
    "## Portfolio return of Two-Asset Portfolio\n",
    "Portfolio return: \n",
    "$$\n",
    "\\text{r}_P = w_A * r_A + w_B * r_B\n",
    "$$\n",
    "\n",
    "where $$ r_A \\text{ and } r_B $$ are expected returns of Assets A and B with $$\\mu = \\frac{X_1 + X_2 + X_3}{3}$$\n",
    "\n",
    "\n",
    "## Portfolio Variance of Two-Asset Portfolio\n",
    "Portfolio Variance\n",
    "$$\n",
    "\\text{Var}_P = w_A^2 \\cdot \\sigma_A^2 + w_B^2 \\cdot \\sigma_B^2 + 2 \\cdot w_A \\cdot w_B \\cdot \\text{cov}(A,B)\n",
    "$$\n",
    "\n",
    "\n"
   ]
  },
  {
   "cell_type": "markdown",
   "metadata": {},
   "source": [
    "### 1c\n",
    "\n",
    "## Initial Thoughts\n",
    "- All portfolios consist of a long position in a portfolio made up of Stock A and Stock B, since risky assets are short-restricted\n",
    "\n",
    "- Criteria 1 - Zero-cost: To maintain zero cost, the long positions in the risky assets must be financed by a short position in the risk-free asset, which is always shorted. The position in the risky asset w_r is always -1.\n",
    "\n",
    "- Criteria 2 - Positive return in all states, strictly positive return in at least one state\n",
    "\n",
    "- Every portfolio constellation is financed with borrowing money for 0% from risk free rate, offering an arbitrage opportunity, with nominal returns approaching infinity as leverage through borrowing at risk free rate r_f increases"
   ]
  },
  {
   "cell_type": "markdown",
   "metadata": {},
   "source": [
    "The general equation is:\n",
    "\n",
    "$$\n",
    "r_A \\cdot w_a + r_B \\cdot (1 - w_a) \\geq 0\n",
    "$$\n",
    "\n",
    "With the solution:\n",
    "\n",
    "$$\n",
    "w_a \\geq \\frac{-r_B}{r_A - r_B}\n",
    "$$\n",
    "\n"
   ]
  },
  {
   "cell_type": "markdown",
   "metadata": {},
   "source": [
    "We can define the weights of Asset A through the following constraints:\n",
    "\n",
    "State 1:\n",
    "\n",
    "$$\n",
    "-0.02 \\cdot w_a + 0.05 \\cdot (1 - w_a) \\geq 0\n",
    "$$\n",
    "\n",
    "Solve for \\( w_a \\):\n",
    "$$\n",
    "w_a \\leq \\frac{5}{7}\n",
    "$$\n",
    "\n",
    "\n",
    "State 2:\n",
    "\n",
    "$$\n",
    "-0.01 \\cdot w_a + 0.03 \\cdot (1 - w_a) \\geq 0\n",
    "$$\n",
    "\n",
    "Solve for \\( w_a \\):\n",
    "$$\n",
    "w_a \\leq \\frac{3}{4}\n",
    "$$\n",
    "\n",
    "\n",
    "State 3:\n",
    "\n",
    "$$\n",
    "0.03 \\cdot w_a - 0.05 \\cdot (1 - w_a) \\geq 0\n",
    "$$\n",
    "\n",
    "\n",
    "Solve for \\( w_a \\):\n",
    "$$\n",
    "w_a \\geq \\frac{5}{8}\n",
    "$$\n",
    "\n",
    "\n",
    "Thus, the set of weights for Asset A can be characterized:\n",
    "\n",
    "$$\n",
    "\\frac{5}{8} \\leq w_a \\leq \\frac{5}{7}\n",
    "$$\n",
    "\n",
    "And the weight of Asset B can be characterized:\n",
    "\n",
    "$$\n",
    "\\frac{3}{8} \\leq w_b \\leq \\frac{2}{7}\n",
    "$$\n",
    "\n",
    "\n",
    "Where \n",
    "$$\n",
    "w_a + w_b = 1\n",
    "$$\n",
    "\n",
    "Side Calculations in Python below"
   ]
  },
  {
   "cell_type": "code",
   "execution_count": 27,
   "metadata": {},
   "outputs": [
    {
     "name": "stdout",
     "output_type": "stream",
     "text": [
      "Scenario 1\n",
      "0.71\n",
      "State 2\n",
      "0.75\n",
      "State 3\n",
      "0.62\n"
     ]
    }
   ],
   "source": [
    "w_a_scen_1 = np.round(-0.05 / (-0.05 - 0.02), 2)\n",
    "w_a_scen_2 = np.round(-0.03 / (-0.03 - 0.01), 2)  \n",
    "w_a_scen_3 = np.round(0.05 / (0.05 + 0.03), 2)\n",
    "\n",
    "print('Scenario 1')\n",
    "print(w_a_scen_1)\n",
    "\n",
    "\n",
    "print('State 2')\n",
    "print(w_a_scen_2)\n",
    "\n",
    "\n",
    "print('State 3')\n",
    "print(w_a_scen_3)"
   ]
  }
 ],
 "metadata": {
  "kernelspec": {
   "display_name": "Python 3",
   "language": "python",
   "name": "python3"
  },
  "language_info": {
   "codemirror_mode": {
    "name": "ipython",
    "version": 3
   },
   "file_extension": ".py",
   "mimetype": "text/x-python",
   "name": "python",
   "nbconvert_exporter": "python",
   "pygments_lexer": "ipython3",
   "version": "3.12.2"
  }
 },
 "nbformat": 4,
 "nbformat_minor": 2
}
